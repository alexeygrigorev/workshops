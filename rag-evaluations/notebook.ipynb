{
 "cells": [
  {
   "cell_type": "code",
   "execution_count": 2,
   "id": "fb0168d2-8369-4705-9aa9-b6acb000a038",
   "metadata": {},
   "outputs": [],
   "source": [
    "import requests \n",
    "\n",
    "docs_url = 'https://raw.githubusercontent.com/DataTalksClub/llm-zoomcamp/refs/heads/main/03-evaluation/search_evaluation/documents-with-ids.json'\n",
    "\n",
    "documents = requests.get(docs_url).json()"
   ]
  },
  {
   "cell_type": "code",
   "execution_count": 5,
   "id": "099de0cb-975d-4301-a6aa-8f4cd5a4bc88",
   "metadata": {},
   "outputs": [
    {
     "data": {
      "text/plain": [
       "<minsearch.minsearch.Index at 0x1b7b700af90>"
      ]
     },
     "execution_count": 5,
     "metadata": {},
     "output_type": "execute_result"
    }
   ],
   "source": [
    "from minsearch import Index\n",
    "\n",
    "index = Index(\n",
    "    text_fields=[\"question\", \"text\", \"section\"],\n",
    "    keyword_fields=[\"course\"]\n",
    ")\n",
    "\n",
    "index.fit(documents)"
   ]
  },
  {
   "cell_type": "code",
   "execution_count": 9,
   "id": "4afb04de-ab04-4aac-b7d1-1ee4a661efe6",
   "metadata": {},
   "outputs": [],
   "source": [
    "def search(question):\n",
    "    return index.search(\n",
    "        question,\n",
    "        boost_dict={'question': 3.0, 'section': 0.3},\n",
    "        filter_dict={'course': 'data-engineering-zoomcamp'},\n",
    "        num_results=5\n",
    "    )"
   ]
  },
  {
   "cell_type": "code",
   "execution_count": 12,
   "id": "92ef63af-8dd6-48f9-b31f-3c0f88e3276f",
   "metadata": {},
   "outputs": [],
   "source": [
    "instructions = \"\"\"\n",
    "You're a course teaching assistant. Answer the QUESTION based on the CONTEXT from the FAQ database.\n",
    "Use only the facts from the CONTEXT when answering the QUESTION.\n",
    "\"\"\".strip()\n",
    "\n",
    "prompt_template = \"\"\"\n",
    "<QUESTION>\n",
    "{question}\n",
    "</QUESTION>\n",
    "\n",
    "<CONTEXT>\n",
    "{context}\n",
    "</CONTEXT>\n",
    "\"\"\".strip()"
   ]
  },
  {
   "cell_type": "code",
   "execution_count": 13,
   "id": "1a67c3f9-e293-4112-bfd0-63bcbdad1982",
   "metadata": {},
   "outputs": [],
   "source": [
    "import json\n",
    "\n",
    "def build_prompt(question, search_results):\n",
    "    search_json = json.dumps(search_results)\n",
    "    return prompt_template.format(\n",
    "        question=question,\n",
    "        context=search_json\n",
    "    )"
   ]
  },
  {
   "cell_type": "code",
   "execution_count": 14,
   "id": "12786e49-c4e7-496e-aec4-e2414daf327a",
   "metadata": {},
   "outputs": [],
   "source": [
    "from openai import OpenAI\n",
    "\n",
    "openai_client = OpenAI()\n",
    "\n",
    "def llm(user_prompt, instructions=None, model=\"gpt-4o-mini\"):\n",
    "    messages = []\n",
    "\n",
    "    if instructions:\n",
    "        messages.append({\n",
    "            \"role\": \"system\",\n",
    "            \"content\": instructions\n",
    "        })\n",
    "\n",
    "    messages.append({\n",
    "        \"role\": \"user\",\n",
    "        \"content\": user_prompt\n",
    "    })\n",
    "\n",
    "    response = openai_client.responses.create(\n",
    "        model=model,\n",
    "        input=messages\n",
    "    )\n",
    "\n",
    "    return response.output_text"
   ]
  },
  {
   "cell_type": "code",
   "execution_count": 15,
   "id": "2f8bf2ec-5db7-4cba-9055-b5a4e2bc585b",
   "metadata": {},
   "outputs": [],
   "source": [
    "def rag(question):\n",
    "    search_results = search(question)\n",
    "    user_prompt = build_prompt(question, search_results)\n",
    "    return llm(user_prompt, instructions=instructions)"
   ]
  },
  {
   "cell_type": "code",
   "execution_count": 16,
   "id": "af2ed875-5853-4d3c-bd50-0bb8659f4308",
   "metadata": {},
   "outputs": [
    {
     "data": {
      "text/plain": [
       "\"Yes, you can still join the course even if you haven't registered. You are eligible to submit the homeworks, but be aware of deadlines for the final projects.\""
      ]
     },
     "execution_count": 16,
     "metadata": {},
     "output_type": "execute_result"
    }
   ],
   "source": [
    "rag('can I join the course now?')"
   ]
  },
  {
   "cell_type": "markdown",
   "id": "66a18dfb-df1c-44de-b3a9-49666cd0f099",
   "metadata": {},
   "source": [
    "- logs (Q, rerieval results, final answer)\n",
    "-  "
   ]
  },
  {
   "cell_type": "markdown",
   "id": "fb321c71-021f-42b4-8b7a-d6e7b01aad4a",
   "metadata": {},
   "source": [
    "## Generate data"
   ]
  },
  {
   "cell_type": "code",
   "execution_count": 17,
   "id": "0c758b50-03b2-4d33-8ec4-5e9dc88b52c5",
   "metadata": {},
   "outputs": [
    {
     "data": {
      "text/plain": [
       "{'text': 'It depends on your background and previous experience with modules. It is expected to require about 5 - 15 hours per week. [source1] [source2]\\nYou can also calculate it yourself using this data and then update this answer.',\n",
       " 'section': 'General course-related questions',\n",
       " 'question': 'Course - \\u200b\\u200bHow many hours per week am I expected to spend on this  course?',\n",
       " 'course': 'data-engineering-zoomcamp',\n",
       " 'id': 'ea739c65'}"
      ]
     },
     "execution_count": 17,
     "metadata": {},
     "output_type": "execute_result"
    }
   ],
   "source": [
    "documents[10]"
   ]
  },
  {
   "cell_type": "code",
   "execution_count": 22,
   "id": "9652a574-958e-46f5-ab51-1683d41dbf16",
   "metadata": {},
   "outputs": [],
   "source": [
    "def llm_structured(instructions, user_prompt, output_type, model=\"gpt-4o-mini\"):\n",
    "    messages = [\n",
    "        {\"role\": \"system\", \"content\": instructions},\n",
    "        {\"role\": \"user\", \"content\": user_prompt}\n",
    "    ]\n",
    "\n",
    "    response = openai_client.responses.parse(\n",
    "        model=model,\n",
    "        input=messages,\n",
    "        text_format=output_type\n",
    "    )\n",
    "\n",
    "    return response.output_parsed"
   ]
  },
  {
   "cell_type": "code",
   "execution_count": 29,
   "id": "6ba47b30-94ca-49ee-b9a1-9f103e936662",
   "metadata": {},
   "outputs": [],
   "source": [
    "data_gen_instructions = \"\"\"\n",
    "You emulate a student who's taking our course.\n",
    "Formulate 5 questions this student might ask based on a FAQ record. The record\n",
    "should contain the answer to the questions, and the questions should be complete and not too short. \n",
    "\"\"\".strip()"
   ]
  },
  {
   "cell_type": "code",
   "execution_count": 30,
   "id": "89f9d243-b396-4861-8f28-de4a74928c3e",
   "metadata": {},
   "outputs": [],
   "source": [
    "from pydantic import BaseModel\n",
    "\n",
    "class Questions(BaseModel):\n",
    "    questions: list[str]"
   ]
  },
  {
   "cell_type": "code",
   "execution_count": 31,
   "id": "b71fa4a4-dd2d-4cb8-a83a-d3572c98a8c2",
   "metadata": {},
   "outputs": [],
   "source": [
    "faq_dataset = documents[:100]"
   ]
  },
  {
   "cell_type": "code",
   "execution_count": 32,
   "id": "9d4b48a5-02d9-42b4-998b-e2dbd1f38f29",
   "metadata": {},
   "outputs": [
    {
     "data": {
      "text/plain": [
       "Questions(questions=[\"What is the exact date and time of the course's commencement, and how will the first session be structured?\", 'How can I ensure that I receive all updates and announcements related to the course?', 'Could you clarify the registration process for the course and any specific links I need to use?', 'Is there a particular platform I need to subscribe to in order to keep track of the course schedule?', \"What steps do I need to take in order to join the DataTalks.Club's Slack channel for the course?\"])"
      ]
     },
     "execution_count": 32,
     "metadata": {},
     "output_type": "execute_result"
    }
   ],
   "source": [
    "llm_structured(\n",
    "    data_gen_instructions,\n",
    "    json.dumps(faq_dataset[0]),\n",
    "    Questions\n",
    ")"
   ]
  },
  {
   "cell_type": "code",
   "execution_count": 33,
   "id": "684a01d8-f434-48ec-ba14-fec857b097c2",
   "metadata": {},
   "outputs": [],
   "source": [
    "qs = _"
   ]
  },
  {
   "cell_type": "code",
   "execution_count": 34,
   "id": "80aad298-e147-47ca-8759-f3dd3d572079",
   "metadata": {},
   "outputs": [
    {
     "data": {
      "text/plain": [
       "[\"What is the exact date and time of the course's commencement, and how will the first session be structured?\",\n",
       " 'How can I ensure that I receive all updates and announcements related to the course?',\n",
       " 'Could you clarify the registration process for the course and any specific links I need to use?',\n",
       " 'Is there a particular platform I need to subscribe to in order to keep track of the course schedule?',\n",
       " \"What steps do I need to take in order to join the DataTalks.Club's Slack channel for the course?\"]"
      ]
     },
     "execution_count": 34,
     "metadata": {},
     "output_type": "execute_result"
    }
   ],
   "source": [
    "qs.questions"
   ]
  },
  {
   "cell_type": "code",
   "execution_count": 35,
   "id": "9b23fea8-4967-4d15-a72c-c898ed47c071",
   "metadata": {},
   "outputs": [
    {
     "data": {
      "text/plain": [
       "{'text': \"The purpose of this document is to capture frequently asked technical questions\\nThe exact day and hour of the course will be 15th Jan 2024 at 17h00. The course will start with the first  “Office Hours'' live.1\\nSubscribe to course public Google Calendar (it works from Desktop only).\\nRegister before the course starts using this link.\\nJoin the course Telegram channel with announcements.\\nDon’t forget to register in DataTalks.Club's Slack and join the channel.\",\n",
       " 'section': 'General course-related questions',\n",
       " 'question': 'Course - When will the course start?',\n",
       " 'course': 'data-engineering-zoomcamp',\n",
       " 'id': 'c02e79ef'}"
      ]
     },
     "execution_count": 35,
     "metadata": {},
     "output_type": "execute_result"
    }
   ],
   "source": [
    "faq_dataset[0]"
   ]
  },
  {
   "cell_type": "code",
   "execution_count": 36,
   "id": "e8d0f5b4-d39e-4ebf-a718-241710a510c8",
   "metadata": {},
   "outputs": [
    {
     "data": {
      "text/plain": [
       "[{'text': 'Star the repo! Share it with friends if you find it useful ❣️\\nCreate a PR if you see you can improve the text or the structure of the repository.',\n",
       "  'section': 'General course-related questions',\n",
       "  'question': 'How can we contribute to the course?',\n",
       "  'course': 'data-engineering-zoomcamp',\n",
       "  'id': '2f19301f'},\n",
       " {'text': \"The purpose of this document is to capture frequently asked technical questions\\nThe exact day and hour of the course will be 15th Jan 2024 at 17h00. The course will start with the first  “Office Hours'' live.1\\nSubscribe to course public Google Calendar (it works from Desktop only).\\nRegister before the course starts using this link.\\nJoin the course Telegram channel with announcements.\\nDon’t forget to register in DataTalks.Club's Slack and join the channel.\",\n",
       "  'section': 'General course-related questions',\n",
       "  'question': 'Course - When will the course start?',\n",
       "  'course': 'data-engineering-zoomcamp',\n",
       "  'id': 'c02e79ef'},\n",
       " {'text': 'Yes, we will keep all the materials after the course finishes, so you can follow the course at your own pace after it finishes.\\nYou can also continue looking at the homeworks and continue preparing for the next cohort. I guess you can also start working on your final capstone project.',\n",
       "  'section': 'General course-related questions',\n",
       "  'question': 'Course - Can I follow the course after it finishes?',\n",
       "  'course': 'data-engineering-zoomcamp',\n",
       "  'id': 'a482086d'},\n",
       " {'text': \"You don't need it. You're accepted. You can also just start learning and submitting homework without registering. It is not checked against any registered list. Registration is just to gauge interest before the start date.\",\n",
       "  'section': 'General course-related questions',\n",
       "  'question': 'Course - I have registered for the Data Engineering Bootcamp. When can I expect to receive the confirmation email?',\n",
       "  'course': 'data-engineering-zoomcamp',\n",
       "  'id': '0bbf41ec'},\n",
       " {'text': 'You can start by installing and setting up all the dependencies and requirements:\\nGoogle cloud account\\nGoogle Cloud SDK\\nPython 3 (installed with Anaconda)\\nTerraform\\nGit\\nLook over the prerequisites and syllabus to see if you are comfortable with these subjects.',\n",
       "  'section': 'General course-related questions',\n",
       "  'question': 'Course - What can I do before the course starts?',\n",
       "  'course': 'data-engineering-zoomcamp',\n",
       "  'id': '63394d91'}]"
      ]
     },
     "execution_count": 36,
     "metadata": {},
     "output_type": "execute_result"
    }
   ],
   "source": [
    "search('How can I ensure that I receive all updates and announcements related to the course?')"
   ]
  },
  {
   "cell_type": "code",
   "execution_count": 37,
   "id": "8e7553f9-b418-47e9-95e1-8aa58d28957a",
   "metadata": {},
   "outputs": [],
   "source": [
    "from tqdm.auto import tqdm\n",
    "from concurrent.futures import ThreadPoolExecutor\n",
    "\n",
    "def map_progress(pool, seq, f):\n",
    "    \"\"\"Map function f over seq using the provided executor pool while\n",
    "    displaying a tqdm progress bar. Returns a list of results in submission order.\n",
    "    \"\"\"\n",
    "    results = []\n",
    "\n",
    "    with tqdm(total=len(seq)) as progress:\n",
    "        futures = []\n",
    "\n",
    "        for el in seq:\n",
    "            future = pool.submit(f, el)\n",
    "            future.add_done_callback(lambda p: progress.update())\n",
    "            futures.append(future)\n",
    "\n",
    "        for future in futures:\n",
    "            result = future.result()\n",
    "            results.append(result)\n",
    "\n",
    "    return results"
   ]
  },
  {
   "cell_type": "code",
   "execution_count": 41,
   "id": "cfdf4318-fc89-4d75-a7f7-d9d6a8a65615",
   "metadata": {},
   "outputs": [],
   "source": [
    "def process(doc):\n",
    "    out = llm_structured(\n",
    "        data_gen_instructions,\n",
    "        json.dumps(doc),\n",
    "        Questions\n",
    "    )\n",
    "\n",
    "    results = []\n",
    "\n",
    "    for q in out.questions:\n",
    "        results.append({\n",
    "            'question': q,\n",
    "            'course': doc['course'],\n",
    "            'id': doc['id']\n",
    "        })\n",
    "\n",
    "    return results"
   ]
  },
  {
   "cell_type": "code",
   "execution_count": 42,
   "id": "21de68ee-632e-4ad1-b673-6bbb6a9a08c6",
   "metadata": {},
   "outputs": [
    {
     "data": {
      "text/plain": [
       "[{'course': 'data-engineering-zoomcamp',\n",
       "  'id': 'ea739c65',\n",
       "  'question': 'What factors should I consider when determining how many hours per week I will need to dedicate to the course?'},\n",
       " {'course': 'data-engineering-zoomcamp',\n",
       "  'id': 'ea739c65',\n",
       "  'question': 'Can you provide more details on how my previous experience might influence the time I need to spend each week?'},\n",
       " {'course': 'data-engineering-zoomcamp',\n",
       "  'id': 'ea739c65',\n",
       "  'question': 'Is there a method or calculation I can use to estimate my weekly hours based on my background?'},\n",
       " {'course': 'data-engineering-zoomcamp',\n",
       "  'id': 'ea739c65',\n",
       "  'question': 'Are there any additional resources or recommendations for managing my time effectively while taking this course?'},\n",
       " {'course': 'data-engineering-zoomcamp',\n",
       "  'id': 'ea739c65',\n",
       "  'question': 'What is the expected time commitment for students who may not have any background in data engineering?'}]"
      ]
     },
     "execution_count": 42,
     "metadata": {},
     "output_type": "execute_result"
    }
   ],
   "source": [
    "process(faq_dataset[10])"
   ]
  },
  {
   "cell_type": "code",
   "execution_count": 43,
   "id": "c1b61fd1-8b9b-47ae-8b81-4648ecd5db9c",
   "metadata": {},
   "outputs": [
    {
     "data": {
      "application/vnd.jupyter.widget-view+json": {
       "model_id": "1f01dd1de38f44a08697e0c11ec0446e",
       "version_major": 2,
       "version_minor": 0
      },
      "text/plain": [
       "  0%|          | 0/100 [00:00<?, ?it/s]"
      ]
     },
     "metadata": {},
     "output_type": "display_data"
    }
   ],
   "source": [
    "with ThreadPoolExecutor(max_workers=6) as pool:\n",
    "    ground_truth = map_progress(pool, faq_dataset, process)"
   ]
  },
  {
   "cell_type": "markdown",
   "id": "e13748b7-52bc-48dc-8a9b-69d4c371628e",
   "metadata": {},
   "source": [
    "LLM as a Judge"
   ]
  },
  {
   "cell_type": "code",
   "execution_count": 46,
   "id": "aeb87ad5-7a8a-4ea1-be7a-4862494df21b",
   "metadata": {},
   "outputs": [],
   "source": [
    "ground_truth_flat = [item for sublist in ground_truth for item in sublist]"
   ]
  },
  {
   "cell_type": "code",
   "execution_count": 48,
   "id": "32419202-e674-42d8-bef0-92b3126131d9",
   "metadata": {},
   "outputs": [],
   "source": [
    "import pandas as pd"
   ]
  },
  {
   "cell_type": "code",
   "execution_count": 49,
   "id": "c1db3bdc-9952-40a0-a687-65ff61197b14",
   "metadata": {},
   "outputs": [],
   "source": [
    "df_ground_truth = pd.DataFrame(ground_truth_flat)"
   ]
  },
  {
   "cell_type": "code",
   "execution_count": 54,
   "id": "3abb6964-68c9-4c56-a46d-6d9c54ab9a5e",
   "metadata": {},
   "outputs": [],
   "source": [
    "q = ground_truth_flat[10]"
   ]
  },
  {
   "cell_type": "code",
   "execution_count": 56,
   "id": "5282388d-e729-416d-9132-000789c916fb",
   "metadata": {},
   "outputs": [],
   "source": [
    "search_results = search(question=q['question'])\n",
    "search_results_id = [d['id'] for d in search_results]"
   ]
  },
  {
   "cell_type": "code",
   "execution_count": 67,
   "id": "3d163260-1f82-40fa-9ba4-90123b7c49a0",
   "metadata": {},
   "outputs": [
    {
     "data": {
      "application/vnd.jupyter.widget-view+json": {
       "model_id": "53c99299c56a4bec820e710e924de53e",
       "version_major": 2,
       "version_minor": 0
      },
      "text/plain": [
       "  0%|          | 0/501 [00:00<?, ?it/s]"
      ]
     },
     "metadata": {},
     "output_type": "display_data"
    }
   ],
   "source": [
    "cnt = 0\n",
    "total_rank = 0.0\n",
    "\n",
    "for q in tqdm(ground_truth_flat):\n",
    "    search_results = search(question=q['question'])\n",
    "    search_results_id = [d['id'] for d in search_results]\n",
    "    line = [q['id'] == item for item in search_results_id]\n",
    "    \n",
    "    for i, item in enumerate(line):        \n",
    "        if item == True:\n",
    "            rank = i + 1\n",
    "            total_rank = total_rank + 1 / rank \n",
    "\n",
    "            cnt = cnt + 1\n",
    "            break"
   ]
  },
  {
   "cell_type": "code",
   "execution_count": 66,
   "id": "3bb9bf7f-95fa-4232-a5a3-ca6b99ae6358",
   "metadata": {},
   "outputs": [
    {
     "data": {
      "text/plain": [
       "0.6786427145708582"
      ]
     },
     "execution_count": 66,
     "metadata": {},
     "output_type": "execute_result"
    }
   ],
   "source": [
    "cnt / len(ground_truth_flat)"
   ]
  },
  {
   "cell_type": "code",
   "execution_count": 68,
   "id": "698c542a-5323-46d1-b087-474a0738cb3b",
   "metadata": {},
   "outputs": [
    {
     "data": {
      "text/plain": [
       "0.5243512974051897"
      ]
     },
     "execution_count": 68,
     "metadata": {},
     "output_type": "execute_result"
    }
   ],
   "source": [
    "total_rank / len(ground_truth_flat)"
   ]
  },
  {
   "cell_type": "code",
   "execution_count": 63,
   "id": "02deaf9a-77a9-429c-8bac-a61c3035fdc2",
   "metadata": {},
   "outputs": [
    {
     "data": {
      "text/plain": [
       "['63394d91', '29d3d343', '8dc77677', '1f6520ca', '06021091']"
      ]
     },
     "execution_count": 63,
     "metadata": {},
     "output_type": "execute_result"
    }
   ],
   "source": [
    "search_results_id"
   ]
  },
  {
   "cell_type": "code",
   "execution_count": 64,
   "id": "a30abe0a-8343-47f7-8ee8-bd069584b161",
   "metadata": {},
   "outputs": [
    {
     "data": {
      "text/plain": [
       "'acf42bb8'"
      ]
     },
     "execution_count": 64,
     "metadata": {},
     "output_type": "execute_result"
    }
   ],
   "source": [
    "q['id']"
   ]
  },
  {
   "cell_type": "markdown",
   "id": "3eb0559c-ba29-46bc-b406-a42b431c79a8",
   "metadata": {},
   "source": [
    "MRR"
   ]
  },
  {
   "cell_type": "code",
   "execution_count": null,
   "id": "dbe87d46-4e8f-44e6-bd2e-a44922e92334",
   "metadata": {},
   "outputs": [],
   "source": [
    "example = [\n",
    "    # 1     2       3     4        5\n",
    "    [True, True, False, False, False],  # 1 / 1 => 1\n",
    "    [False, False, False, False, False], # 0\n",
    "    [False, False, False, False, False], # 0\n",
    "    [False, False, False, False, False], # 0\n",
    "    [False, False, False, False, False], # 0\n",
    "    [False, True, True, False, False],  # 1 / 2\n",
    "    [False, False, True, False, False],  # 1 / 3\n",
    "    [True, False, False, False, False],  # 1\n",
    "    [True, False, False, False, False],  # 1\n",
    "    [True, False, False, False, False],  # 1\n",
    "    [False, False, True, False, False],  # 1 / 3\n",
    "    [False, False, False, False, False], # 0\n",
    "]"
   ]
  }
 ],
 "metadata": {
  "kernelspec": {
   "display_name": "Python 3 (ipykernel)",
   "language": "python",
   "name": "python3"
  },
  "language_info": {
   "codemirror_mode": {
    "name": "ipython",
    "version": 3
   },
   "file_extension": ".py",
   "mimetype": "text/x-python",
   "name": "python",
   "nbconvert_exporter": "python",
   "pygments_lexer": "ipython3",
   "version": "3.13.5"
  }
 },
 "nbformat": 4,
 "nbformat_minor": 5
}
