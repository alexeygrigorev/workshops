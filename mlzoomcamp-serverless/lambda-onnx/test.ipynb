{
 "cells": [
  {
   "cell_type": "code",
   "execution_count": 5,
   "id": "b2b3e76f-09ac-42c1-bb0a-c93fe73e7167",
   "metadata": {},
   "outputs": [],
   "source": [
    "import numpy as np\n",
    "\n",
    "from keras_image_helper import create_preprocessor"
   ]
  },
  {
   "cell_type": "code",
   "execution_count": 6,
   "id": "7bd8e2df-87a9-4892-99da-21ffdab6f45e",
   "metadata": {},
   "outputs": [],
   "source": [
    "\n",
    "def preprocess_pytorch(X):\n",
    "    # X: shape (1, 299, 299, 3), dtype=float32, values in [0, 255]\n",
    "    X = X / 255.0\n",
    "\n",
    "    mean = np.array([0.485, 0.456, 0.406]).reshape(1, 3, 1, 1)\n",
    "    std = np.array([0.229, 0.224, 0.225]).reshape(1, 3, 1, 1)\n",
    "\n",
    "    # Convert NHWC → NCHW\n",
    "    # from (batch, height, width, channels) → (batch, channels, height, width)\n",
    "    X = X.transpose(0, 3, 1, 2)\n",
    "\n",
    "    # Normalize\n",
    "    X = (X - mean) / std\n",
    "\n",
    "    return X.astype(np.float32)\n",
    "\n",
    "\n",
    "preprocessor = create_preprocessor(preprocess_pytorch, target_size=(224, 224))"
   ]
  },
  {
   "cell_type": "code",
   "execution_count": 7,
   "id": "bd8c57dc-578f-44ae-bce6-86436be60aec",
   "metadata": {},
   "outputs": [],
   "source": [
    "url = 'http://bit.ly/mlbookcamp-pants'\n",
    "X = preprocessor.from_url(url)"
   ]
  },
  {
   "cell_type": "code",
   "execution_count": 8,
   "id": "57d6fccf-8f1d-4f20-9788-eb231a3c153c",
   "metadata": {},
   "outputs": [
    {
     "data": {
      "text/plain": [
       "(1, 3, 224, 224)"
      ]
     },
     "execution_count": 8,
     "metadata": {},
     "output_type": "execute_result"
    }
   ],
   "source": [
    "X.shape"
   ]
  },
  {
   "cell_type": "code",
   "execution_count": 9,
   "id": "2dfab440-9f6b-458e-bb39-3619c1e2b242",
   "metadata": {},
   "outputs": [],
   "source": [
    "import onnxruntime as ort\n",
    "\n",
    "onnx_model_path = \"clothing_classifier_mobilenet_v2_latest.onnx\"\n",
    "session = ort.InferenceSession(onnx_model_path, providers=[\"CPUExecutionProvider\"])"
   ]
  },
  {
   "cell_type": "code",
   "execution_count": 10,
   "id": "84a2fd2d-3152-4e89-b424-25f37ea61e32",
   "metadata": {},
   "outputs": [],
   "source": [
    "inputs = session.get_inputs()\n",
    "outputs = session.get_outputs()\n",
    "\n",
    "input_name = inputs[0].name\n",
    "output_name = outputs[0].name"
   ]
  },
  {
   "cell_type": "code",
   "execution_count": 13,
   "id": "d3cc7805-7ec3-4395-b06a-4e9ee0e33340",
   "metadata": {},
   "outputs": [],
   "source": [
    "result = session.run([output_name], {input_name: X})"
   ]
  },
  {
   "cell_type": "code",
   "execution_count": 14,
   "id": "85878d27-5e4d-4409-8545-726efef80038",
   "metadata": {},
   "outputs": [
    {
     "data": {
      "text/plain": [
       "[array([[ 0.14996365, -1.7628496 , -3.336878  , -1.7682592 ,  5.3368697 ,\n",
       "         -1.0429132 , -0.30727357,  0.7430814 , -1.7061669 , -3.9114783 ]],\n",
       "       dtype=float32)]"
      ]
     },
     "execution_count": 14,
     "metadata": {},
     "output_type": "execute_result"
    }
   ],
   "source": [
    "result"
   ]
  },
  {
   "cell_type": "code",
   "execution_count": 15,
   "id": "6151be80-6009-49f6-8682-b61dad2dbaa3",
   "metadata": {},
   "outputs": [],
   "source": [
    "predictions = result[0][0].tolist()"
   ]
  },
  {
   "cell_type": "code",
   "execution_count": 16,
   "id": "7fd9c200-2efd-4807-91d3-5adbc3fb037a",
   "metadata": {},
   "outputs": [],
   "source": [
    "classes = [\n",
    "    'dress',\n",
    "    'hat',\n",
    "    'longsleeve',\n",
    "    'outwear',\n",
    "    'pants',\n",
    "    'shirt',\n",
    "    'shoes',\n",
    "    'shorts',\n",
    "    'skirt',\n",
    "    't-shirt'\n",
    "]"
   ]
  },
  {
   "cell_type": "code",
   "execution_count": 17,
   "id": "6226fadb-ed77-440a-854c-4ac3074ce080",
   "metadata": {},
   "outputs": [
    {
     "data": {
      "text/plain": [
       "{'dress': 0.1499636471271515,\n",
       " 'hat': -1.7628495693206787,\n",
       " 'longsleeve': -3.3368780612945557,\n",
       " 'outwear': -1.7682591676712036,\n",
       " 'pants': 5.336869716644287,\n",
       " 'shirt': -1.0429131984710693,\n",
       " 'shoes': -0.3072735667228699,\n",
       " 'shorts': 0.7430813908576965,\n",
       " 'skirt': -1.7061668634414673,\n",
       " 't-shirt': -3.911478281021118}"
      ]
     },
     "execution_count": 17,
     "metadata": {},
     "output_type": "execute_result"
    }
   ],
   "source": [
    "dict(zip(classes, predictions))"
   ]
  },
  {
   "cell_type": "code",
   "execution_count": null,
   "id": "d00cf2af-1fb4-4cc0-b4a9-456208d58d8e",
   "metadata": {},
   "outputs": [],
   "source": []
  }
 ],
 "metadata": {
  "kernelspec": {
   "display_name": "Python 3 (ipykernel)",
   "language": "python",
   "name": "python3"
  },
  "language_info": {
   "codemirror_mode": {
    "name": "ipython",
    "version": 3
   },
   "file_extension": ".py",
   "mimetype": "text/x-python",
   "name": "python",
   "nbconvert_exporter": "python",
   "pygments_lexer": "ipython3",
   "version": "3.13.5"
  }
 },
 "nbformat": 4,
 "nbformat_minor": 5
}
