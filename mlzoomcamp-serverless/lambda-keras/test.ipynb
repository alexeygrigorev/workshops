{
 "cells": [
  {
   "cell_type": "code",
   "execution_count": 1,
   "id": "ced7eb3e-93b2-47b5-9c5a-ef2cf91baf4e",
   "metadata": {},
   "outputs": [],
   "source": [
    "from keras_image_helper import create_preprocessor\n",
    "preprocessor = create_preprocessor('xception', target_size=(299, 299))"
   ]
  },
  {
   "cell_type": "code",
   "execution_count": 2,
   "id": "82dde169-e5fb-45d8-8a43-ee03f2ffcb49",
   "metadata": {},
   "outputs": [],
   "source": [
    "url = 'http://bit.ly/mlbookcamp-pants'\n",
    "X = preprocessor.from_url(url)"
   ]
  },
  {
   "cell_type": "code",
   "execution_count": 3,
   "id": "2ea562a8-0656-4f97-a2dd-5d94264460be",
   "metadata": {},
   "outputs": [],
   "source": [
    "import onnxruntime as ort\n",
    "\n",
    "onnx_model_path = \"clothing-model-new.onnx\"\n",
    "session = ort.InferenceSession(onnx_model_path, providers=[\"CPUExecutionProvider\"])"
   ]
  },
  {
   "cell_type": "code",
   "execution_count": null,
   "id": "b19c3f82-df0c-49df-ad18-a47a2aae45d1",
   "metadata": {},
   "outputs": [],
   "source": [
    "inputs = session.get_inputs()\n",
    "outputs = session.get_outputs()\n",
    "\n",
    "input_name = inputs[0].name\n",
    "output_name = outputs[0].name"
   ]
  },
  {
   "cell_type": "code",
   "execution_count": 6,
   "id": "b7d5f18c-3169-42a9-bf9a-e5c245d38124",
   "metadata": {},
   "outputs": [],
   "source": [
    "result = session.run([output_name], {input_name: X})"
   ]
  },
  {
   "cell_type": "code",
   "execution_count": 11,
   "id": "383a22a4-0411-4331-873a-32ecff40f9ff",
   "metadata": {},
   "outputs": [],
   "source": [
    "predictions = result[0][0].tolist()"
   ]
  },
  {
   "cell_type": "code",
   "execution_count": 12,
   "id": "0faa16d2-37b0-4530-abfe-02ecce5083ec",
   "metadata": {},
   "outputs": [],
   "source": [
    "classes = [\n",
    "    'dress',\n",
    "    'hat',\n",
    "    'longsleeve',\n",
    "    'outwear',\n",
    "    'pants',\n",
    "    'shirt',\n",
    "    'shoes',\n",
    "    'shorts',\n",
    "    'skirt',\n",
    "    't-shirt'\n",
    "]"
   ]
  },
  {
   "cell_type": "code",
   "execution_count": 14,
   "id": "65bddec9-5cf8-4acc-aa40-c116a2e3bbec",
   "metadata": {},
   "outputs": [
    {
     "data": {
      "text/plain": [
       "{'dress': -2.3684329986572266,\n",
       " 'hat': -4.414735794067383,\n",
       " 'longsleeve': -2.309055805206299,\n",
       " 'outwear': -1.739748239517212,\n",
       " 'pants': 8.660110473632812,\n",
       " 'shirt': -3.194986581802368,\n",
       " 'shoes': -5.595435619354248,\n",
       " 'shorts': 2.7487964630126953,\n",
       " 'skirt': -2.995649814605713,\n",
       " 't-shirt': -4.363430500030518}"
      ]
     },
     "execution_count": 14,
     "metadata": {},
     "output_type": "execute_result"
    }
   ],
   "source": [
    "dict(zip(classes, predictions))"
   ]
  },
  {
   "cell_type": "code",
   "execution_count": null,
   "id": "2c94a0a0-ab3f-4193-b35b-1a1b7973e97e",
   "metadata": {},
   "outputs": [],
   "source": []
  }
 ],
 "metadata": {
  "kernelspec": {
   "display_name": "Python 3 (ipykernel)",
   "language": "python",
   "name": "python3"
  },
  "language_info": {
   "codemirror_mode": {
    "name": "ipython",
    "version": 3
   },
   "file_extension": ".py",
   "mimetype": "text/x-python",
   "name": "python",
   "nbconvert_exporter": "python",
   "pygments_lexer": "ipython3",
   "version": "3.13.5"
  }
 },
 "nbformat": 4,
 "nbformat_minor": 5
}
